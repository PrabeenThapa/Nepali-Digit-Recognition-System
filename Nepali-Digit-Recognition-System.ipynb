{
 "cells": [
  {
   "cell_type": "code",
   "execution_count": 1,
   "metadata": {},
   "outputs": [],
   "source": [
    "import torch\n",
    "import torch.nn as nn\n",
    "import torch.nn.functional as F \n",
    "from torch.utils.data import DataLoader\n",
    "import torch.optim.adam\n",
    "from torchvision import datasets\n",
    "from torchvision.transforms import v2\n",
    "from PIL import Image\n",
    "import pickle\n",
    "\n",
    "import matplotlib.pyplot as plt \n",
    "%matplotlib inline"
   ]
  },
  {
   "cell_type": "code",
   "execution_count": 2,
   "metadata": {},
   "outputs": [
    {
     "data": {
      "text/plain": [
       "device(type='cuda')"
      ]
     },
     "execution_count": 2,
     "metadata": {},
     "output_type": "execute_result"
    }
   ],
   "source": [
    "# Set Device to CUDA if available\n",
    "device = torch.device('cuda' if torch.cuda.is_available() else 'cpu')\n",
    "device\n"
   ]
  },
  {
   "cell_type": "code",
   "execution_count": 3,
   "metadata": {},
   "outputs": [],
   "source": [
    "train_transforms = v2.Compose([\n",
    "        # v2.RandomResizedCrop(224),\n",
    "        # v2.RandomHorizontalFlip(),\n",
    "        v2.ColorJitter(brightness=0.2, contrast=0.2, saturation=0.2, hue=0.2),\n",
    "        v2.Grayscale(num_output_channels=1),\n",
    "        v2.PILToTensor(),\n",
    "        v2.ToDtype(torch.float32),\n",
    "        v2.Normalize([0.5], [0.5])\n",
    "    ])\n",
    "\n",
    "test_transforms = v2.Compose([\n",
    "        # v2.Resize(256),\n",
    "        # v2.CenterCrop(224),\n",
    "        v2.Resize((32,32)),\n",
    "        v2.Grayscale(num_output_channels=1),\n",
    "        v2.PILToTensor(),\n",
    "        v2.ToDtype(torch.float32),\n",
    "        v2.Normalize([0.5], [0.5])\n",
    "])"
   ]
  },
  {
   "cell_type": "code",
   "execution_count": 4,
   "metadata": {},
   "outputs": [],
   "source": [
    "test_dir = \".\\data\\\\Test\"\n",
    "train_dir = \".\\data\\\\Train\"\n",
    "\n",
    "train_data = datasets.ImageFolder(train_dir, transform=train_transforms)\n",
    "test_data = datasets.ImageFolder(test_dir, transform=test_transforms)"
   ]
  },
  {
   "cell_type": "code",
   "execution_count": 5,
   "metadata": {},
   "outputs": [],
   "source": [
    "# Create a batch for images \n",
    "train_loader = DataLoader(train_data, batch_size=10, shuffle=True)\n",
    "test_loader = DataLoader(test_data, batch_size=10, shuffle=False)"
   ]
  },
  {
   "cell_type": "code",
   "execution_count": 6,
   "metadata": {},
   "outputs": [
    {
     "data": {
      "text/plain": [
       "Dataset ImageFolder\n",
       "    Number of datapoints: 900\n",
       "    Root location: .\\data\\Train\n",
       "    StandardTransform\n",
       "Transform: Compose(\n",
       "                 ColorJitter(brightness=(0.8, 1.2), contrast=(0.8, 1.2), saturation=(0.8, 1.2), hue=(-0.2, 0.2))\n",
       "                 Grayscale(num_output_channels=1)\n",
       "                 PILToTensor()\n",
       "                 ToDtype(scale=False)\n",
       "                 Normalize(mean=[0.5], std=[0.5], inplace=False)\n",
       "           )"
      ]
     },
     "execution_count": 6,
     "metadata": {},
     "output_type": "execute_result"
    }
   ],
   "source": [
    "train_data"
   ]
  },
  {
   "cell_type": "code",
   "execution_count": 7,
   "metadata": {},
   "outputs": [
    {
     "data": {
      "text/plain": [
       "Dataset ImageFolder\n",
       "    Number of datapoints: 100\n",
       "    Root location: .\\data\\Test\n",
       "    StandardTransform\n",
       "Transform: Compose(\n",
       "                 Resize(size=[32, 32], interpolation=InterpolationMode.BILINEAR, antialias=True)\n",
       "                 Grayscale(num_output_channels=1)\n",
       "                 PILToTensor()\n",
       "                 ToDtype(scale=False)\n",
       "                 Normalize(mean=[0.5], std=[0.5], inplace=False)\n",
       "           )"
      ]
     },
     "execution_count": 7,
     "metadata": {},
     "output_type": "execute_result"
    }
   ],
   "source": [
    "test_data"
   ]
  },
  {
   "cell_type": "code",
   "execution_count": 8,
   "metadata": {},
   "outputs": [],
   "source": [
    "for i, (X_train, Y_train) in enumerate(train_loader):\n",
    "    break"
   ]
  },
  {
   "cell_type": "code",
   "execution_count": 9,
   "metadata": {},
   "outputs": [
    {
     "data": {
      "text/plain": [
       "torch.Size([10])"
      ]
     },
     "execution_count": 9,
     "metadata": {},
     "output_type": "execute_result"
    }
   ],
   "source": [
    "Y_train.shape"
   ]
  },
  {
   "cell_type": "code",
   "execution_count": 10,
   "metadata": {},
   "outputs": [
    {
     "data": {
      "text/plain": [
       "torch.Size([10, 1, 32, 32])"
      ]
     },
     "execution_count": 10,
     "metadata": {},
     "output_type": "execute_result"
    }
   ],
   "source": [
    "X_train.shape"
   ]
  },
  {
   "cell_type": "code",
   "execution_count": 11,
   "metadata": {},
   "outputs": [
    {
     "data": {
      "text/plain": [
       "<matplotlib.image.AxesImage at 0x267c8dae6b0>"
      ]
     },
     "execution_count": 11,
     "metadata": {},
     "output_type": "execute_result"
    },
    {
     "data": {
      "image/png": "[encoded data removed]",
      "text/plain": [
       "<Figure size 640x480 with 1 Axes>"
      ]
     },
     "metadata": {},
     "output_type": "display_data"
    }
   ],
   "source": [
    "img = X_train[0][0].unsqueeze(0)\n",
    "plt.imshow(img.squeeze())"
   ]
  },
  {
   "cell_type": "code",
   "execution_count": 12,
   "metadata": {},
   "outputs": [],
   "source": [
    "labels_map = {\n",
    "    0: \"०\",\n",
    "    1: \"१\",\n",
    "    2: \"२\",\n",
    "    3: \"३\",\n",
    "    4: \"४\",\n",
    "    5: \"५\",\n",
    "    6: \"६\",\n",
    "    7: \"७\",\n",
    "    8: \"८\",\n",
    "    9: \"९\",\n",
    "}"
   ]
  },
  {
   "cell_type": "code",
   "execution_count": 13,
   "metadata": {},
   "outputs": [
    {
     "data": {
      "text/plain": [
       "'३'"
      ]
     },
     "execution_count": 13,
     "metadata": {},
     "output_type": "execute_result"
    }
   ],
   "source": [
    "labels_map[int(Y_train[0])]"
   ]
  },
  {
   "cell_type": "code",
   "execution_count": 14,
   "metadata": {},
   "outputs": [],
   "source": [
    "# Defining Model\n",
    "conv1 = nn.Conv2d(1, 6, 3,1, padding=1)\n",
    "conv2 = nn.Conv2d(6, 16, 3,1, padding=1)\n",
    "conv3 = nn.Conv2d(16, 32, 3, 1, padding=1)\n"
   ]
  },
  {
   "cell_type": "code",
   "execution_count": 15,
   "metadata": {},
   "outputs": [
    {
     "name": "stdout",
     "output_type": "stream",
     "text": [
      "Output shape after conv1: torch.Size([6, 32, 32]), \n",
      "Output shape after conv2: torch.Size([16, 32, 32]), \n",
      "Output shape after conv3: torch.Size([32, 32, 32])\n"
     ]
    }
   ],
   "source": [
    "# Checking if it's working correctly\n",
    "output1 = conv1(img)\n",
    "output2 = conv2(output1)\n",
    "output3 = conv3(output2)\n",
    "print(f'Output shape after conv1: {output1.shape}, \\nOutput shape after conv2: {output2.shape}, \\nOutput shape after conv3: {output3.shape}')\n",
    "\n",
    "# Perform our first convolution\n",
    "img = F.relu(conv1(img))"
   ]
  },
  {
   "cell_type": "code",
   "execution_count": 16,
   "metadata": {},
   "outputs": [],
   "source": [
    "# passing through pooling layer\n",
    "image_tensor = F.max_pool2d(img, 2, 2) #kernel of 2 and stride of 2"
   ]
  },
  {
   "cell_type": "code",
   "execution_count": 17,
   "metadata": {},
   "outputs": [
    {
     "data": {
      "text/plain": [
       "torch.Size([6, 16, 16])"
      ]
     },
     "execution_count": 17,
     "metadata": {},
     "output_type": "execute_result"
    }
   ],
   "source": [
    "image_tensor.shape"
   ]
  },
  {
   "cell_type": "code",
   "execution_count": 18,
   "metadata": {},
   "outputs": [],
   "source": [
    "class ConvolutionalNetwork(nn.Module):\n",
    "    def __init__(self):\n",
    "        super().__init__()\n",
    "        # First Convolutional Layer (1 channel for grayscale images)\n",
    "        self.conv1 = nn.Conv2d(1, 6, 3, 1)  # input: 1 channel (grayscale), output: 6 channels, kernel size: 3\n",
    "        # Second Convolutional Layer\n",
    "        self.conv2 = nn.Conv2d(6, 16, 3, 1)  # input: 6 channels, output: 16 channels, kernel size: 3\n",
    "        self.conv3 = nn.Conv2d(16, 32, 3, 1)\n",
    "\n",
    "        # Fully Connected Layers\n",
    "        self.fc1 = nn.Linear(576, 300)  # Adjusted flattened size for grayscale image\n",
    "        self.fc2 = nn.Linear(300, 150)\n",
    "        self.fc3 = nn.Linear(150,10)  # Assuming 10 classes for classification\n",
    "\n",
    "    def forward(self, X):\n",
    "        # First Convolutional Layer + ReLU + Max Pooling\n",
    "        X = F.relu(self.conv1(X))\n",
    "        X = F.max_pool2d(X, 2, 2)  # 2x2 kernel, stride 2\n",
    "\n",
    "        # Second Convolutional Layer + ReLU + Max Pooling\n",
    "        X = F.relu(self.conv2(X))\n",
    "        X = F.max_pool2d(X, 2, 2)  # 2x2 kernel, stride 2\n",
    "\n",
    "        # Flatten the tensor before passing it to fully connected layers\n",
    "        X = X.view(-1, 16 * 6 * 6)  # Flatten the output of the last convolutional layer\n",
    "\n",
    "        # Fully Connected Layers + ReLU\n",
    "        X = F.relu(self.fc1(X))\n",
    "        X = F.relu(self.fc2(X))\n",
    "        X = self.fc3(X)  # No activation here because we'll use log_softmax at the output layer\n",
    "        return F.log_softmax(X, dim=1)  # Apply log_softmax for multi-class classification\n"
   ]
  },
  {
   "cell_type": "code",
   "execution_count": 19,
   "metadata": {},
   "outputs": [
    {
     "data": {
      "text/plain": [
       "ConvolutionalNetwork(\n",
       "  (conv1): Conv2d(1, 6, kernel_size=(3, 3), stride=(1, 1))\n",
       "  (conv2): Conv2d(6, 16, kernel_size=(3, 3), stride=(1, 1))\n",
       "  (conv3): Conv2d(16, 32, kernel_size=(3, 3), stride=(1, 1))\n",
       "  (fc1): Linear(in_features=576, out_features=300, bias=True)\n",
       "  (fc2): Linear(in_features=300, out_features=150, bias=True)\n",
       "  (fc3): Linear(in_features=150, out_features=10, bias=True)\n",
       ")"
      ]
     },
     "execution_count": 19,
     "metadata": {},
     "output_type": "execute_result"
    }
   ],
   "source": [
    "# Create an Instance of our model\n",
    "torch.manual_seed(41)\n",
    "model = ConvolutionalNetwork()\n",
    "model"
   ]
  },
  {
   "cell_type": "code",
   "execution_count": 20,
   "metadata": {},
   "outputs": [],
   "source": [
    "# Loss Function Optimizer\n",
    "criterion = nn.CrossEntropyLoss()\n",
    "optimizer = torch.optim.SGD(model.parameters(), lr=0.001)"
   ]
  },
  {
   "cell_type": "code",
   "execution_count": 21,
   "metadata": {},
   "outputs": [
    {
     "name": "stdout",
     "output_type": "stream",
     "text": [
      "Epoch: 0  Batch: 10  Loss: 2.839966297149658\n",
      "Epoch: 0  Batch: 20  Loss: 2.3187155723571777\n",
      "Epoch: 0  Batch: 30  Loss: 2.474181652069092\n",
      "Epoch: 0  Batch: 40  Loss: 2.3574767112731934\n",
      "Epoch: 0  Batch: 50  Loss: 2.2852652072906494\n",
      "Epoch: 0  Batch: 60  Loss: 2.2203593254089355\n",
      "Epoch: 0  Batch: 70  Loss: 2.3181698322296143\n",
      "Epoch: 0  Batch: 80  Loss: 2.230185031890869\n",
      "Epoch: 0  Batch: 90  Loss: 2.299591541290283\n",
      "Epoch: 1  Batch: 10  Loss: 2.2689208984375\n",
      "Epoch: 1  Batch: 20  Loss: 2.209549903869629\n",
      "Epoch: 1  Batch: 30  Loss: 2.303093910217285\n",
      "Epoch: 1  Batch: 40  Loss: 2.243744373321533\n",
      "Epoch: 1  Batch: 50  Loss: 2.2965545654296875\n",
      "Epoch: 1  Batch: 60  Loss: 2.3934245109558105\n",
      "Epoch: 1  Batch: 70  Loss: 2.178555965423584\n",
      "Epoch: 1  Batch: 80  Loss: 2.2320237159729004\n",
      "Epoch: 1  Batch: 90  Loss: 2.1982336044311523\n",
      "Epoch: 2  Batch: 10  Loss: 2.180380344390869\n",
      "Epoch: 2  Batch: 20  Loss: 2.344975471496582\n",
      "Epoch: 2  Batch: 30  Loss: 2.1680920124053955\n",
      "Epoch: 2  Batch: 40  Loss: 2.263065814971924\n",
      "Epoch: 2  Batch: 50  Loss: 2.2397093772888184\n",
      "Epoch: 2  Batch: 60  Loss: 2.194375514984131\n",
      "Epoch: 2  Batch: 70  Loss: 2.2469735145568848\n",
      "Epoch: 2  Batch: 80  Loss: 2.2109241485595703\n",
      "Epoch: 2  Batch: 90  Loss: 2.1432044506073\n",
      "Epoch: 3  Batch: 10  Loss: 2.133528709411621\n",
      "Epoch: 3  Batch: 20  Loss: 2.3170406818389893\n",
      "Epoch: 3  Batch: 30  Loss: 2.3285210132598877\n",
      "Epoch: 3  Batch: 40  Loss: 2.2466509342193604\n",
      "Epoch: 3  Batch: 50  Loss: 2.319570779800415\n",
      "Epoch: 3  Batch: 60  Loss: 2.426079750061035\n",
      "Epoch: 3  Batch: 70  Loss: 2.2793641090393066\n",
      "Epoch: 3  Batch: 80  Loss: 2.1890347003936768\n",
      "Epoch: 3  Batch: 90  Loss: 2.2111852169036865\n",
      "Epoch: 4  Batch: 10  Loss: 2.1952738761901855\n",
      "Epoch: 4  Batch: 20  Loss: 2.2283430099487305\n",
      "Epoch: 4  Batch: 30  Loss: 2.066911458969116\n",
      "Epoch: 4  Batch: 40  Loss: 2.28755784034729\n",
      "Epoch: 4  Batch: 50  Loss: 2.084526538848877\n",
      "Epoch: 4  Batch: 60  Loss: 1.9727226495742798\n",
      "Epoch: 4  Batch: 70  Loss: 2.0004804134368896\n",
      "Epoch: 4  Batch: 80  Loss: 1.9772844314575195\n",
      "Epoch: 4  Batch: 90  Loss: 1.6724659204483032\n",
      "Epoch: 5  Batch: 10  Loss: 1.9277818202972412\n",
      "Epoch: 5  Batch: 20  Loss: 1.4820542335510254\n",
      "Epoch: 5  Batch: 30  Loss: 2.2472689151763916\n",
      "Epoch: 5  Batch: 40  Loss: 1.5781149864196777\n",
      "Epoch: 5  Batch: 50  Loss: 1.3462024927139282\n",
      "Epoch: 5  Batch: 60  Loss: 1.3577436208724976\n",
      "Epoch: 5  Batch: 70  Loss: 1.4401789903640747\n",
      "Epoch: 5  Batch: 80  Loss: 1.559058427810669\n",
      "Epoch: 5  Batch: 90  Loss: 1.466599702835083\n",
      "Epoch: 6  Batch: 10  Loss: 1.2391976118087769\n",
      "Epoch: 6  Batch: 20  Loss: 1.1401304006576538\n",
      "Epoch: 6  Batch: 30  Loss: 0.5075221061706543\n",
      "Epoch: 6  Batch: 40  Loss: 1.4415149688720703\n",
      "Epoch: 6  Batch: 50  Loss: 0.6083560585975647\n",
      "Epoch: 6  Batch: 60  Loss: 0.8102048635482788\n",
      "Epoch: 6  Batch: 70  Loss: 0.5826457738876343\n",
      "Epoch: 6  Batch: 80  Loss: 1.0587639808654785\n",
      "Epoch: 6  Batch: 90  Loss: 1.49265456199646\n",
      "Epoch: 7  Batch: 10  Loss: 0.6582748293876648\n",
      "Epoch: 7  Batch: 20  Loss: 0.9677337408065796\n",
      "Epoch: 7  Batch: 30  Loss: 1.0425266027450562\n",
      "Epoch: 7  Batch: 40  Loss: 1.0682733058929443\n",
      "Epoch: 7  Batch: 50  Loss: 0.46721068024635315\n",
      "Epoch: 7  Batch: 60  Loss: 1.1137319803237915\n",
      "Epoch: 7  Batch: 70  Loss: 0.32481297850608826\n",
      "Epoch: 7  Batch: 80  Loss: 1.6297855377197266\n",
      "Epoch: 7  Batch: 90  Loss: 0.904597282409668\n",
      "Epoch: 8  Batch: 10  Loss: 0.5657065510749817\n",
      "Epoch: 8  Batch: 20  Loss: 0.6007388830184937\n",
      "Epoch: 8  Batch: 30  Loss: 0.5008332133293152\n",
      "Epoch: 8  Batch: 40  Loss: 1.1832268238067627\n",
      "Epoch: 8  Batch: 50  Loss: 0.3113420903682709\n",
      "Epoch: 8  Batch: 60  Loss: 0.6040399670600891\n",
      "Epoch: 8  Batch: 70  Loss: 0.6540493369102478\n",
      "Epoch: 8  Batch: 80  Loss: 0.28623878955841064\n",
      "Epoch: 8  Batch: 90  Loss: 0.36069193482398987\n",
      "Epoch: 9  Batch: 10  Loss: 0.41197314858436584\n",
      "Epoch: 9  Batch: 20  Loss: 0.47197285294532776\n",
      "Epoch: 9  Batch: 30  Loss: 0.11949404329061508\n",
      "Epoch: 9  Batch: 40  Loss: 0.23178887367248535\n",
      "Epoch: 9  Batch: 50  Loss: 0.28651130199432373\n",
      "Epoch: 9  Batch: 60  Loss: 0.4641628861427307\n",
      "Epoch: 9  Batch: 70  Loss: 0.2283967286348343\n",
      "Epoch: 9  Batch: 80  Loss: 0.25579577684402466\n",
      "Epoch: 9  Batch: 90  Loss: 0.6163691282272339\n",
      "Epoch: 10  Batch: 10  Loss: 0.12696105241775513\n",
      "Epoch: 10  Batch: 20  Loss: 0.21848690509796143\n",
      "Epoch: 10  Batch: 30  Loss: 0.13944779336452484\n",
      "Epoch: 10  Batch: 40  Loss: 0.47898751497268677\n",
      "Epoch: 10  Batch: 50  Loss: 0.11640895903110504\n",
      "Epoch: 10  Batch: 60  Loss: 0.20262941718101501\n",
      "Epoch: 10  Batch: 70  Loss: 0.3671113848686218\n",
      "Epoch: 10  Batch: 80  Loss: 0.3911708891391754\n",
      "Epoch: 10  Batch: 90  Loss: 0.27068209648132324\n",
      "Epoch: 11  Batch: 10  Loss: 0.21978625655174255\n",
      "Epoch: 11  Batch: 20  Loss: 0.2052960842847824\n",
      "Epoch: 11  Batch: 30  Loss: 0.09865492582321167\n",
      "Epoch: 11  Batch: 40  Loss: 0.13471177220344543\n",
      "Epoch: 11  Batch: 50  Loss: 0.18511776626110077\n",
      "Epoch: 11  Batch: 60  Loss: 0.16992661356925964\n",
      "Epoch: 11  Batch: 70  Loss: 0.42887797951698303\n",
      "Epoch: 11  Batch: 80  Loss: 0.23203882575035095\n",
      "Epoch: 11  Batch: 90  Loss: 0.3121935725212097\n",
      "Epoch: 12  Batch: 10  Loss: 0.11699286848306656\n",
      "Epoch: 12  Batch: 20  Loss: 0.10381510108709335\n",
      "Epoch: 12  Batch: 30  Loss: 0.28978827595710754\n",
      "Epoch: 12  Batch: 40  Loss: 0.1339690387248993\n",
      "Epoch: 12  Batch: 50  Loss: 0.4107533395290375\n",
      "Epoch: 12  Batch: 60  Loss: 0.06380650401115417\n",
      "Epoch: 12  Batch: 70  Loss: 0.14887121319770813\n",
      "Epoch: 12  Batch: 80  Loss: 0.14197871088981628\n",
      "Epoch: 12  Batch: 90  Loss: 0.07857628166675568\n",
      "Epoch: 13  Batch: 10  Loss: 0.1499292552471161\n",
      "Epoch: 13  Batch: 20  Loss: 0.07174421101808548\n",
      "Epoch: 13  Batch: 30  Loss: 0.17916610836982727\n",
      "Epoch: 13  Batch: 40  Loss: 0.04742617905139923\n",
      "Epoch: 13  Batch: 50  Loss: 0.07872653752565384\n",
      "Epoch: 13  Batch: 60  Loss: 0.05496446415781975\n",
      "Epoch: 13  Batch: 70  Loss: 0.09374558925628662\n",
      "Epoch: 13  Batch: 80  Loss: 0.0862123966217041\n",
      "Epoch: 13  Batch: 90  Loss: 0.06841977685689926\n",
      "Epoch: 14  Batch: 10  Loss: 0.017237797379493713\n",
      "Epoch: 14  Batch: 20  Loss: 0.0795346051454544\n",
      "Epoch: 14  Batch: 30  Loss: 0.04124043136835098\n",
      "Epoch: 14  Batch: 40  Loss: 0.09887906908988953\n",
      "Epoch: 14  Batch: 50  Loss: 0.010003923438489437\n",
      "Epoch: 14  Batch: 60  Loss: 0.05609044432640076\n",
      "Epoch: 14  Batch: 70  Loss: 0.18440218269824982\n",
      "Epoch: 14  Batch: 80  Loss: 0.06077850982546806\n",
      "Epoch: 14  Batch: 90  Loss: 0.03289495036005974\n",
      "Epoch: 15  Batch: 10  Loss: 0.06551524996757507\n",
      "Epoch: 15  Batch: 20  Loss: 0.01952911540865898\n",
      "Epoch: 15  Batch: 30  Loss: 0.0712125152349472\n",
      "Epoch: 15  Batch: 40  Loss: 0.014665951021015644\n",
      "Epoch: 15  Batch: 50  Loss: 0.027813583612442017\n",
      "Epoch: 15  Batch: 60  Loss: 0.08981633186340332\n",
      "Epoch: 15  Batch: 70  Loss: 0.040591415017843246\n",
      "Epoch: 15  Batch: 80  Loss: 0.029278773814439774\n",
      "Epoch: 15  Batch: 90  Loss: 0.06560201197862625\n",
      "Epoch: 16  Batch: 10  Loss: 0.025989701971411705\n",
      "Epoch: 16  Batch: 20  Loss: 0.07632757723331451\n",
      "Epoch: 16  Batch: 30  Loss: 0.04836319386959076\n",
      "Epoch: 16  Batch: 40  Loss: 0.04054323956370354\n",
      "Epoch: 16  Batch: 50  Loss: 0.023509539663791656\n",
      "Epoch: 16  Batch: 60  Loss: 0.012417683377861977\n",
      "Epoch: 16  Batch: 70  Loss: 0.019333748146891594\n",
      "Epoch: 16  Batch: 80  Loss: 0.026725072413682938\n",
      "Epoch: 16  Batch: 90  Loss: 0.05306275933980942\n",
      "Epoch: 17  Batch: 10  Loss: 0.04226961359381676\n",
      "Epoch: 17  Batch: 20  Loss: 0.023476500064134598\n",
      "Epoch: 17  Batch: 30  Loss: 0.01822633109986782\n",
      "Epoch: 17  Batch: 40  Loss: 0.020504150539636612\n",
      "Epoch: 17  Batch: 50  Loss: 0.016754798591136932\n",
      "Epoch: 17  Batch: 60  Loss: 0.022765660658478737\n",
      "Epoch: 17  Batch: 70  Loss: 0.02845064364373684\n",
      "Epoch: 17  Batch: 80  Loss: 0.038301415741443634\n",
      "Epoch: 17  Batch: 90  Loss: 0.02155134826898575\n",
      "Epoch: 18  Batch: 10  Loss: 0.017686065286397934\n",
      "Epoch: 18  Batch: 20  Loss: 0.019882947206497192\n",
      "Epoch: 18  Batch: 30  Loss: 0.0183594711124897\n",
      "Epoch: 18  Batch: 40  Loss: 0.009132297709584236\n",
      "Epoch: 18  Batch: 50  Loss: 0.03184429928660393\n",
      "Epoch: 18  Batch: 60  Loss: 0.02301020547747612\n",
      "Epoch: 18  Batch: 70  Loss: 0.023299766704440117\n",
      "Epoch: 18  Batch: 80  Loss: 0.02576623484492302\n",
      "Epoch: 18  Batch: 90  Loss: 0.018360089510679245\n",
      "Epoch: 19  Batch: 10  Loss: 0.012129361741244793\n",
      "Epoch: 19  Batch: 20  Loss: 0.01605088636279106\n",
      "Epoch: 19  Batch: 30  Loss: 0.006910276599228382\n",
      "Epoch: 19  Batch: 40  Loss: 0.008668756112456322\n",
      "Epoch: 19  Batch: 50  Loss: 0.0033844965510070324\n",
      "Epoch: 19  Batch: 60  Loss: 0.03684811666607857\n",
      "Epoch: 19  Batch: 70  Loss: 0.021511491388082504\n",
      "Epoch: 19  Batch: 80  Loss: 0.007706381380558014\n",
      "Epoch: 19  Batch: 90  Loss: 0.023305285722017288\n",
      "Epoch: 20  Batch: 10  Loss: 0.01372524630278349\n",
      "Epoch: 20  Batch: 20  Loss: 0.010235478170216084\n",
      "Epoch: 20  Batch: 30  Loss: 0.0071187205612659454\n",
      "Epoch: 20  Batch: 40  Loss: 0.01895228400826454\n",
      "Epoch: 20  Batch: 50  Loss: 0.029594961553812027\n",
      "Epoch: 20  Batch: 60  Loss: 0.009695565328001976\n",
      "Epoch: 20  Batch: 70  Loss: 0.007334647234529257\n",
      "Epoch: 20  Batch: 80  Loss: 0.00976505409926176\n",
      "Epoch: 20  Batch: 90  Loss: 0.00685922522097826\n",
      "Epoch: 21  Batch: 10  Loss: 0.009049955755472183\n",
      "Epoch: 21  Batch: 20  Loss: 0.011377611197531223\n",
      "Epoch: 21  Batch: 30  Loss: 0.00787651538848877\n",
      "Epoch: 21  Batch: 40  Loss: 0.005522924941033125\n",
      "Epoch: 21  Batch: 50  Loss: 0.011662800796329975\n",
      "Epoch: 21  Batch: 60  Loss: 0.01102629117667675\n",
      "Epoch: 21  Batch: 70  Loss: 0.003757114289328456\n",
      "Epoch: 21  Batch: 80  Loss: 0.006847704760730267\n",
      "Epoch: 21  Batch: 90  Loss: 0.007235673721879721\n",
      "Epoch: 22  Batch: 10  Loss: 0.01033051684498787\n",
      "Epoch: 22  Batch: 20  Loss: 0.00885741040110588\n",
      "Epoch: 22  Batch: 30  Loss: 0.019984016194939613\n",
      "Epoch: 22  Batch: 40  Loss: 0.02655744180083275\n",
      "Epoch: 22  Batch: 50  Loss: 0.015784069895744324\n",
      "Epoch: 22  Batch: 60  Loss: 0.009890293702483177\n",
      "Epoch: 22  Batch: 70  Loss: 0.007533930242061615\n",
      "Epoch: 22  Batch: 80  Loss: 0.0021279500797390938\n",
      "Epoch: 22  Batch: 90  Loss: 0.0036802575923502445\n",
      "Epoch: 23  Batch: 10  Loss: 0.0025674845091998577\n",
      "Epoch: 23  Batch: 20  Loss: 0.012433972209692001\n",
      "Epoch: 23  Batch: 30  Loss: 0.012588394805788994\n",
      "Epoch: 23  Batch: 40  Loss: 0.010300444439053535\n",
      "Epoch: 23  Batch: 50  Loss: 0.004873317200690508\n",
      "Epoch: 23  Batch: 60  Loss: 0.00428365170955658\n",
      "Epoch: 23  Batch: 70  Loss: 0.012598228640854359\n",
      "Epoch: 23  Batch: 80  Loss: 0.005340102594345808\n",
      "Epoch: 23  Batch: 90  Loss: 0.007590419612824917\n",
      "Epoch: 24  Batch: 10  Loss: 0.0043120002374053\n",
      "Epoch: 24  Batch: 20  Loss: 0.00687312800437212\n",
      "Epoch: 24  Batch: 30  Loss: 0.0043902019970119\n",
      "Epoch: 24  Batch: 40  Loss: 0.0061037554405629635\n",
      "Epoch: 24  Batch: 50  Loss: 0.006845375057309866\n",
      "Epoch: 24  Batch: 60  Loss: 0.009015421383082867\n",
      "Epoch: 24  Batch: 70  Loss: 0.015830185264348984\n",
      "Epoch: 24  Batch: 80  Loss: 0.0051553696393966675\n",
      "Epoch: 24  Batch: 90  Loss: 0.006513464264571667\n",
      "Epoch: 25  Batch: 10  Loss: 0.006670409347862005\n",
      "Epoch: 25  Batch: 20  Loss: 0.008638909086585045\n",
      "Epoch: 25  Batch: 30  Loss: 0.006736586801707745\n",
      "Epoch: 25  Batch: 40  Loss: 0.02286214753985405\n",
      "Epoch: 25  Batch: 50  Loss: 0.023855429142713547\n",
      "Epoch: 25  Batch: 60  Loss: 0.0021166675724089146\n",
      "Epoch: 25  Batch: 70  Loss: 0.006682518869638443\n",
      "Epoch: 25  Batch: 80  Loss: 0.006620120257139206\n",
      "Epoch: 25  Batch: 90  Loss: 0.005451806355267763\n",
      "Epoch: 26  Batch: 10  Loss: 0.004979179240763187\n",
      "Epoch: 26  Batch: 20  Loss: 0.004746836144477129\n",
      "Epoch: 26  Batch: 30  Loss: 0.004502487368881702\n",
      "Epoch: 26  Batch: 40  Loss: 0.009634098038077354\n",
      "Epoch: 26  Batch: 50  Loss: 0.012778067961335182\n",
      "Epoch: 26  Batch: 60  Loss: 0.007029291242361069\n",
      "Epoch: 26  Batch: 70  Loss: 0.00806751661002636\n",
      "Epoch: 26  Batch: 80  Loss: 0.016229918226599693\n",
      "Epoch: 26  Batch: 90  Loss: 0.014596434310078621\n",
      "Epoch: 27  Batch: 10  Loss: 0.00855744443833828\n",
      "Epoch: 27  Batch: 20  Loss: 0.0014609609497711062\n",
      "Epoch: 27  Batch: 30  Loss: 0.004131975583732128\n",
      "Epoch: 27  Batch: 40  Loss: 0.003406333504244685\n",
      "Epoch: 27  Batch: 50  Loss: 0.009100343100726604\n",
      "Epoch: 27  Batch: 60  Loss: 0.00969609059393406\n",
      "Epoch: 27  Batch: 70  Loss: 0.0023220572620630264\n",
      "Epoch: 27  Batch: 80  Loss: 0.0037021369207650423\n",
      "Epoch: 27  Batch: 90  Loss: 0.004965584725141525\n",
      "Epoch: 28  Batch: 10  Loss: 0.0015248293057084084\n",
      "Epoch: 28  Batch: 20  Loss: 0.013244474306702614\n",
      "Epoch: 28  Batch: 30  Loss: 0.0019873608835041523\n",
      "Epoch: 28  Batch: 40  Loss: 0.002704729326069355\n",
      "Epoch: 28  Batch: 50  Loss: 0.00840009842067957\n",
      "Epoch: 28  Batch: 60  Loss: 0.00659526139497757\n",
      "Epoch: 28  Batch: 70  Loss: 0.004659394733607769\n",
      "Epoch: 28  Batch: 80  Loss: 0.007098197937011719\n",
      "Epoch: 28  Batch: 90  Loss: 0.0057546040043234825\n",
      "Epoch: 29  Batch: 10  Loss: 0.0072989435866475105\n",
      "Epoch: 29  Batch: 20  Loss: 0.005243385676294565\n",
      "Epoch: 29  Batch: 30  Loss: 0.007296466734260321\n",
      "Epoch: 29  Batch: 40  Loss: 0.010665053501725197\n",
      "Epoch: 29  Batch: 50  Loss: 0.0051748910918831825\n",
      "Epoch: 29  Batch: 60  Loss: 0.0011807173723354936\n",
      "Epoch: 29  Batch: 70  Loss: 0.0029253163374960423\n",
      "Epoch: 29  Batch: 80  Loss: 0.0015538986772298813\n",
      "Epoch: 29  Batch: 90  Loss: 0.011247646063566208\n",
      "Epoch: 30  Batch: 10  Loss: 0.0035044937394559383\n",
      "Epoch: 30  Batch: 20  Loss: 0.0028365792240947485\n",
      "Epoch: 30  Batch: 30  Loss: 0.008431008085608482\n",
      "Epoch: 30  Batch: 40  Loss: 0.0058031873777508736\n",
      "Epoch: 30  Batch: 50  Loss: 0.009392212145030499\n",
      "Epoch: 30  Batch: 60  Loss: 0.010327566415071487\n",
      "Epoch: 30  Batch: 70  Loss: 0.014234503731131554\n",
      "Epoch: 30  Batch: 80  Loss: 0.007553932722657919\n",
      "Epoch: 30  Batch: 90  Loss: 0.0029904008843004704\n",
      "Epoch: 31  Batch: 10  Loss: 0.002041252562776208\n",
      "Epoch: 31  Batch: 20  Loss: 0.0025329224299639463\n",
      "Epoch: 31  Batch: 30  Loss: 0.002627262379974127\n",
      "Epoch: 31  Batch: 40  Loss: 0.005510302260518074\n",
      "Epoch: 31  Batch: 50  Loss: 0.0046991752460598946\n",
      "Epoch: 31  Batch: 60  Loss: 0.0015171264531090856\n",
      "Epoch: 31  Batch: 70  Loss: 0.006170152686536312\n",
      "Epoch: 31  Batch: 80  Loss: 0.0028162167873233557\n",
      "Epoch: 31  Batch: 90  Loss: 0.0031952678691595793\n",
      "Epoch: 32  Batch: 10  Loss: 0.0020332070998847485\n",
      "Epoch: 32  Batch: 20  Loss: 0.006808039732277393\n",
      "Epoch: 32  Batch: 30  Loss: 0.0019898121245205402\n",
      "Epoch: 32  Batch: 40  Loss: 0.006282872054725885\n",
      "Epoch: 32  Batch: 50  Loss: 0.0027170409448444843\n",
      "Epoch: 32  Batch: 60  Loss: 0.003525229636579752\n",
      "Epoch: 32  Batch: 70  Loss: 0.0035941279493272305\n",
      "Epoch: 32  Batch: 80  Loss: 0.003581730183213949\n",
      "Epoch: 32  Batch: 90  Loss: 0.0027770958840847015\n",
      "Epoch: 33  Batch: 10  Loss: 0.004818751476705074\n",
      "Epoch: 33  Batch: 20  Loss: 0.002772420644760132\n",
      "Epoch: 33  Batch: 30  Loss: 0.009085407480597496\n",
      "Epoch: 33  Batch: 40  Loss: 0.0014675725251436234\n",
      "Epoch: 33  Batch: 50  Loss: 0.005013723392039537\n",
      "Epoch: 33  Batch: 60  Loss: 0.005535811651498079\n",
      "Epoch: 33  Batch: 70  Loss: 0.003906621597707272\n",
      "Epoch: 33  Batch: 80  Loss: 0.009412357583642006\n",
      "Epoch: 33  Batch: 90  Loss: 0.001564440899528563\n",
      "Epoch: 34  Batch: 10  Loss: 0.003083301242440939\n",
      "Epoch: 34  Batch: 20  Loss: 0.007374998182058334\n",
      "Epoch: 34  Batch: 30  Loss: 0.009351800195872784\n",
      "Epoch: 34  Batch: 40  Loss: 0.004161257296800613\n",
      "Epoch: 34  Batch: 50  Loss: 0.0015481701120734215\n",
      "Epoch: 34  Batch: 60  Loss: 0.007158742751926184\n",
      "Epoch: 34  Batch: 70  Loss: 0.004288411699235439\n",
      "Epoch: 34  Batch: 80  Loss: 0.0012777175288647413\n",
      "Epoch: 34  Batch: 90  Loss: 0.004519295878708363\n",
      "Epoch: 35  Batch: 10  Loss: 0.004582579247653484\n",
      "Epoch: 35  Batch: 20  Loss: 0.0039184135384857655\n",
      "Epoch: 35  Batch: 30  Loss: 0.009458007290959358\n",
      "Epoch: 35  Batch: 40  Loss: 0.006211366970092058\n",
      "Epoch: 35  Batch: 50  Loss: 0.004020768217742443\n",
      "Epoch: 35  Batch: 60  Loss: 0.0020299707539379597\n",
      "Epoch: 35  Batch: 70  Loss: 0.005461694207042456\n",
      "Epoch: 35  Batch: 80  Loss: 0.0019045876106247306\n",
      "Epoch: 35  Batch: 90  Loss: 0.004646759945899248\n",
      "Epoch: 36  Batch: 10  Loss: 0.0036551575176417828\n",
      "Epoch: 36  Batch: 20  Loss: 0.0014080448308959603\n",
      "Epoch: 36  Batch: 30  Loss: 0.001399460481479764\n",
      "Epoch: 36  Batch: 40  Loss: 0.006167127750813961\n",
      "Epoch: 36  Batch: 50  Loss: 0.004787790589034557\n",
      "Epoch: 36  Batch: 60  Loss: 0.004947194363921881\n",
      "Epoch: 36  Batch: 70  Loss: 0.009098333306610584\n",
      "Epoch: 36  Batch: 80  Loss: 0.004476527683436871\n",
      "Epoch: 36  Batch: 90  Loss: 0.0026248686481267214\n",
      "Epoch: 37  Batch: 10  Loss: 0.0014897671062499285\n",
      "Epoch: 37  Batch: 20  Loss: 0.001934532425366342\n",
      "Epoch: 37  Batch: 30  Loss: 0.0068471371196210384\n",
      "Epoch: 37  Batch: 40  Loss: 0.0032808638643473387\n",
      "Epoch: 37  Batch: 50  Loss: 0.0030297625344246626\n",
      "Epoch: 37  Batch: 60  Loss: 0.004066996276378632\n",
      "Epoch: 37  Batch: 70  Loss: 0.0035696227569133043\n",
      "Epoch: 37  Batch: 80  Loss: 0.01009578350931406\n",
      "Epoch: 37  Batch: 90  Loss: 0.004897625185549259\n",
      "Epoch: 38  Batch: 10  Loss: 0.003205031855031848\n",
      "Epoch: 38  Batch: 20  Loss: 0.002879832638427615\n",
      "Epoch: 38  Batch: 30  Loss: 0.0018164997454732656\n",
      "Epoch: 38  Batch: 40  Loss: 0.0020504314452409744\n",
      "Epoch: 38  Batch: 50  Loss: 0.0033956007100641727\n",
      "Epoch: 38  Batch: 60  Loss: 0.005361937917768955\n",
      "Epoch: 38  Batch: 70  Loss: 0.0022747430484741926\n",
      "Epoch: 38  Batch: 80  Loss: 0.005756027065217495\n",
      "Epoch: 38  Batch: 90  Loss: 0.0032279386650770903\n",
      "Epoch: 39  Batch: 10  Loss: 0.00045881752157583833\n",
      "Epoch: 39  Batch: 20  Loss: 0.006774783134460449\n",
      "Epoch: 39  Batch: 30  Loss: 0.003208646085113287\n",
      "Epoch: 39  Batch: 40  Loss: 0.00393007742241025\n",
      "Epoch: 39  Batch: 50  Loss: 0.007086214609444141\n",
      "Epoch: 39  Batch: 60  Loss: 0.003164544003084302\n",
      "Epoch: 39  Batch: 70  Loss: 0.004889320116490126\n",
      "Epoch: 39  Batch: 80  Loss: 0.0028470028191804886\n",
      "Epoch: 39  Batch: 90  Loss: 0.0016528296982869506\n",
      "Epoch: 40  Batch: 10  Loss: 0.001900531118735671\n",
      "Epoch: 40  Batch: 20  Loss: 0.0007995255291461945\n",
      "Epoch: 40  Batch: 30  Loss: 0.012665781192481518\n",
      "Epoch: 40  Batch: 40  Loss: 0.002794481348246336\n",
      "Epoch: 40  Batch: 50  Loss: 0.0007191358599811792\n",
      "Epoch: 40  Batch: 60  Loss: 0.0015663523226976395\n",
      "Epoch: 40  Batch: 70  Loss: 0.005680560600012541\n",
      "Epoch: 40  Batch: 80  Loss: 0.002727761399000883\n",
      "Epoch: 40  Batch: 90  Loss: 0.003560153301805258\n",
      "Epoch: 41  Batch: 10  Loss: 0.009878801181912422\n",
      "Epoch: 41  Batch: 20  Loss: 0.0006276780040934682\n",
      "Epoch: 41  Batch: 30  Loss: 0.0038767564110457897\n",
      "Epoch: 41  Batch: 40  Loss: 0.004450954031199217\n",
      "Epoch: 41  Batch: 50  Loss: 0.003085832577198744\n",
      "Epoch: 41  Batch: 60  Loss: 0.0037398547865450382\n",
      "Epoch: 41  Batch: 70  Loss: 0.0018213143339380622\n",
      "Epoch: 41  Batch: 80  Loss: 0.0005507175228558481\n",
      "Epoch: 41  Batch: 90  Loss: 0.0031091931741684675\n",
      "Epoch: 42  Batch: 10  Loss: 0.0009696829365566373\n",
      "Epoch: 42  Batch: 20  Loss: 0.0014135439414530993\n",
      "Epoch: 42  Batch: 30  Loss: 0.0018855426460504532\n",
      "Epoch: 42  Batch: 40  Loss: 0.0036451288033276796\n",
      "Epoch: 42  Batch: 50  Loss: 0.0022204206325113773\n",
      "Epoch: 42  Batch: 60  Loss: 0.0014367172261700034\n",
      "Epoch: 42  Batch: 70  Loss: 0.0008445873972959816\n",
      "Epoch: 42  Batch: 80  Loss: 0.006368515081703663\n",
      "Epoch: 42  Batch: 90  Loss: 0.005674836225807667\n",
      "Epoch: 43  Batch: 10  Loss: 0.00346027547493577\n",
      "Epoch: 43  Batch: 20  Loss: 0.002244531875476241\n",
      "Epoch: 43  Batch: 30  Loss: 0.0012748284498229623\n",
      "Epoch: 43  Batch: 40  Loss: 0.0018555615097284317\n",
      "Epoch: 43  Batch: 50  Loss: 0.0016346850898116827\n",
      "Epoch: 43  Batch: 60  Loss: 0.0024961058516055346\n",
      "Epoch: 43  Batch: 70  Loss: 0.0009483009343966842\n",
      "Epoch: 43  Batch: 80  Loss: 0.0007122961105778813\n",
      "Epoch: 43  Batch: 90  Loss: 0.00030407067970372736\n",
      "Epoch: 44  Batch: 10  Loss: 0.004618935286998749\n",
      "Epoch: 44  Batch: 20  Loss: 0.0021423152647912502\n",
      "Epoch: 44  Batch: 30  Loss: 0.001321497024036944\n",
      "Epoch: 44  Batch: 40  Loss: 0.002917987061664462\n",
      "Epoch: 44  Batch: 50  Loss: 0.003001665696501732\n",
      "Epoch: 44  Batch: 60  Loss: 0.0022292290814220905\n",
      "Epoch: 44  Batch: 70  Loss: 0.001484932960011065\n",
      "Epoch: 44  Batch: 80  Loss: 0.002321157604455948\n",
      "Epoch: 44  Batch: 90  Loss: 0.001205208944156766\n",
      "Epoch: 45  Batch: 10  Loss: 0.002026275498792529\n",
      "Epoch: 45  Batch: 20  Loss: 0.0035353549756109715\n",
      "Epoch: 45  Batch: 30  Loss: 0.0025383494794368744\n",
      "Epoch: 45  Batch: 40  Loss: 0.0005340003990568221\n",
      "Epoch: 45  Batch: 50  Loss: 0.001315676374360919\n",
      "Epoch: 45  Batch: 60  Loss: 0.0030277010519057512\n",
      "Epoch: 45  Batch: 70  Loss: 0.002624873071908951\n",
      "Epoch: 45  Batch: 80  Loss: 0.0021907875780016184\n",
      "Epoch: 45  Batch: 90  Loss: 0.0036997876595705748\n",
      "Epoch: 46  Batch: 10  Loss: 0.001543932594358921\n",
      "Epoch: 46  Batch: 20  Loss: 0.001512071117758751\n",
      "Epoch: 46  Batch: 30  Loss: 0.00200309744104743\n",
      "Epoch: 46  Batch: 40  Loss: 0.005183713044971228\n",
      "Epoch: 46  Batch: 50  Loss: 0.002693945076316595\n",
      "Epoch: 46  Batch: 60  Loss: 0.0017572793876752257\n",
      "Epoch: 46  Batch: 70  Loss: 0.004408880136907101\n",
      "Epoch: 46  Batch: 80  Loss: 0.0008776422473601997\n",
      "Epoch: 46  Batch: 90  Loss: 0.0016386366914957762\n",
      "Epoch: 47  Batch: 10  Loss: 0.0011324677616357803\n",
      "Epoch: 47  Batch: 20  Loss: 0.0007746076444163918\n",
      "Epoch: 47  Batch: 30  Loss: 0.0033120084553956985\n",
      "Epoch: 47  Batch: 40  Loss: 0.004314111545681953\n",
      "Epoch: 47  Batch: 50  Loss: 0.0007520288345403969\n",
      "Epoch: 47  Batch: 60  Loss: 0.0007043295772746205\n",
      "Epoch: 47  Batch: 70  Loss: 0.0011911352630704641\n",
      "Epoch: 47  Batch: 80  Loss: 0.0038872689474374056\n",
      "Epoch: 47  Batch: 90  Loss: 0.0032108791638165712\n",
      "Epoch: 48  Batch: 10  Loss: 0.0014420585939660668\n",
      "Epoch: 48  Batch: 20  Loss: 0.003737926483154297\n",
      "Epoch: 48  Batch: 30  Loss: 0.0023588528856635094\n",
      "Epoch: 48  Batch: 40  Loss: 0.0010949071729555726\n",
      "Epoch: 48  Batch: 50  Loss: 0.004582911264151335\n",
      "Epoch: 48  Batch: 60  Loss: 0.00341840460896492\n",
      "Epoch: 48  Batch: 70  Loss: 0.0021137462463229895\n",
      "Epoch: 48  Batch: 80  Loss: 0.0040288870222866535\n",
      "Epoch: 48  Batch: 90  Loss: 0.0013750630896538496\n",
      "Epoch: 49  Batch: 10  Loss: 0.0009308516746386886\n",
      "Epoch: 49  Batch: 20  Loss: 0.005425994284451008\n",
      "Epoch: 49  Batch: 30  Loss: 0.0017118651885539293\n",
      "Epoch: 49  Batch: 40  Loss: 0.0005342585500329733\n",
      "Epoch: 49  Batch: 50  Loss: 0.0026373437140136957\n",
      "Epoch: 49  Batch: 60  Loss: 0.0015001374995335937\n",
      "Epoch: 49  Batch: 70  Loss: 0.0023853653110563755\n",
      "Epoch: 49  Batch: 80  Loss: 0.0024267160333693027\n",
      "Epoch: 49  Batch: 90  Loss: 0.003319771494716406\n",
      "Epoch: 50  Batch: 10  Loss: 0.0026182024739682674\n",
      "Epoch: 50  Batch: 20  Loss: 0.002119063399732113\n",
      "Epoch: 50  Batch: 30  Loss: 0.0002421610988676548\n",
      "Epoch: 50  Batch: 40  Loss: 0.0035849791020154953\n",
      "Epoch: 50  Batch: 50  Loss: 0.00037672530743293464\n",
      "Epoch: 50  Batch: 60  Loss: 0.0023379323538392782\n",
      "Epoch: 50  Batch: 70  Loss: 0.0056492057628929615\n",
      "Epoch: 50  Batch: 80  Loss: 0.0011843268293887377\n",
      "Epoch: 50  Batch: 90  Loss: 0.002687197644263506\n",
      "Epoch: 51  Batch: 10  Loss: 0.004439202137291431\n",
      "Epoch: 51  Batch: 20  Loss: 0.0015376044902950525\n",
      "Epoch: 51  Batch: 30  Loss: 0.0022953383158892393\n",
      "Epoch: 51  Batch: 40  Loss: 0.0022368826903402805\n",
      "Epoch: 51  Batch: 50  Loss: 0.002094654832035303\n",
      "Epoch: 51  Batch: 60  Loss: 0.0009961060713976622\n",
      "Epoch: 51  Batch: 70  Loss: 0.005120833404362202\n",
      "Epoch: 51  Batch: 80  Loss: 0.0011366147082298994\n",
      "Epoch: 51  Batch: 90  Loss: 0.0006428834167309105\n",
      "Epoch: 52  Batch: 10  Loss: 0.001370167126879096\n",
      "Epoch: 52  Batch: 20  Loss: 0.0023333155550062656\n",
      "Epoch: 52  Batch: 30  Loss: 0.005185003392398357\n",
      "Epoch: 52  Batch: 40  Loss: 0.00077168078860268\n",
      "Epoch: 52  Batch: 50  Loss: 0.004032077733427286\n",
      "Epoch: 52  Batch: 60  Loss: 0.005457654595375061\n",
      "Epoch: 52  Batch: 70  Loss: 0.0009258635109290481\n",
      "Epoch: 52  Batch: 80  Loss: 0.0053095947951078415\n",
      "Epoch: 52  Batch: 90  Loss: 0.0032044940162450075\n",
      "Epoch: 53  Batch: 10  Loss: 0.0002707444364205003\n",
      "Epoch: 53  Batch: 20  Loss: 0.000986816012300551\n",
      "Epoch: 53  Batch: 30  Loss: 0.004355416167527437\n",
      "Epoch: 53  Batch: 40  Loss: 0.0020476444624364376\n",
      "Epoch: 53  Batch: 50  Loss: 0.0035600103437900543\n",
      "Epoch: 53  Batch: 60  Loss: 0.0005384398973546922\n",
      "Epoch: 53  Batch: 70  Loss: 0.0008423437247984111\n",
      "Epoch: 53  Batch: 80  Loss: 0.0021118544973433018\n",
      "Epoch: 53  Batch: 90  Loss: 0.00011959056428167969\n",
      "Epoch: 54  Batch: 10  Loss: 0.0024121867027133703\n",
      "Epoch: 54  Batch: 20  Loss: 0.0008454725029878318\n",
      "Epoch: 54  Batch: 30  Loss: 0.00344214029610157\n",
      "Epoch: 54  Batch: 40  Loss: 0.0014755309093743563\n",
      "Epoch: 54  Batch: 50  Loss: 0.001810578047297895\n",
      "Epoch: 54  Batch: 60  Loss: 0.0032302276231348515\n",
      "Epoch: 54  Batch: 70  Loss: 0.005005784798413515\n",
      "Epoch: 54  Batch: 80  Loss: 0.004483770579099655\n",
      "Epoch: 54  Batch: 90  Loss: 0.0010109208524227142\n",
      "Epoch: 55  Batch: 10  Loss: 0.003942188341170549\n",
      "Epoch: 55  Batch: 20  Loss: 0.000575368176214397\n",
      "Epoch: 55  Batch: 30  Loss: 0.0009603124926798046\n",
      "Epoch: 55  Batch: 40  Loss: 0.0013526417315006256\n",
      "Epoch: 55  Batch: 50  Loss: 0.0034162369556725025\n",
      "Epoch: 55  Batch: 60  Loss: 0.0006558084860444069\n",
      "Epoch: 55  Batch: 70  Loss: 0.001327926991507411\n",
      "Epoch: 55  Batch: 80  Loss: 0.0016506414394825697\n",
      "Epoch: 55  Batch: 90  Loss: 0.001640534377656877\n",
      "Epoch: 56  Batch: 10  Loss: 0.002374651376157999\n",
      "Epoch: 56  Batch: 20  Loss: 0.0024241164792329073\n",
      "Epoch: 56  Batch: 30  Loss: 0.0015991689870133996\n",
      "Epoch: 56  Batch: 40  Loss: 0.001134500838816166\n",
      "Epoch: 56  Batch: 50  Loss: 0.0032666665501892567\n",
      "Epoch: 56  Batch: 60  Loss: 0.0007059297058731318\n",
      "Epoch: 56  Batch: 70  Loss: 0.0007011225097812712\n",
      "Epoch: 56  Batch: 80  Loss: 0.000604539061896503\n",
      "Epoch: 56  Batch: 90  Loss: 0.0034102455247193575\n",
      "Epoch: 57  Batch: 10  Loss: 0.0008177527342922986\n",
      "Epoch: 57  Batch: 20  Loss: 0.0015927636995911598\n",
      "Epoch: 57  Batch: 30  Loss: 0.0010454680304974318\n",
      "Epoch: 57  Batch: 40  Loss: 0.002732574474066496\n",
      "Epoch: 57  Batch: 50  Loss: 0.0012163773644715548\n",
      "Epoch: 57  Batch: 60  Loss: 0.000688153610099107\n",
      "Epoch: 57  Batch: 70  Loss: 0.0019353252137079835\n",
      "Epoch: 57  Batch: 80  Loss: 0.0008692311239428818\n",
      "Epoch: 57  Batch: 90  Loss: 0.0016327068442478776\n",
      "Epoch: 58  Batch: 10  Loss: 0.0017769185360521078\n",
      "Epoch: 58  Batch: 20  Loss: 0.0006859416025690734\n",
      "Epoch: 58  Batch: 30  Loss: 0.002245149342343211\n",
      "Epoch: 58  Batch: 40  Loss: 0.0017989020561799407\n",
      "Epoch: 58  Batch: 50  Loss: 0.0010210024192929268\n",
      "Epoch: 58  Batch: 60  Loss: 0.003829526947811246\n",
      "Epoch: 58  Batch: 70  Loss: 0.000750709034036845\n",
      "Epoch: 58  Batch: 80  Loss: 0.003253945615142584\n",
      "Epoch: 58  Batch: 90  Loss: 0.001756908604875207\n",
      "Epoch: 59  Batch: 10  Loss: 0.0016238933894783258\n",
      "Epoch: 59  Batch: 20  Loss: 0.001279786927625537\n",
      "Epoch: 59  Batch: 30  Loss: 0.0008235572022385895\n",
      "Epoch: 59  Batch: 40  Loss: 0.0019667691085487604\n",
      "Epoch: 59  Batch: 50  Loss: 0.0009085701894946396\n",
      "Epoch: 59  Batch: 60  Loss: 0.00025653649936430156\n",
      "Epoch: 59  Batch: 70  Loss: 0.0008832660387270153\n",
      "Epoch: 59  Batch: 80  Loss: 0.0022957450710237026\n",
      "Epoch: 59  Batch: 90  Loss: 0.0010945034446194768\n",
      "Epoch: 60  Batch: 10  Loss: 0.0043490128591656685\n",
      "Epoch: 60  Batch: 20  Loss: 0.002122490433976054\n",
      "Epoch: 60  Batch: 30  Loss: 0.00047997324145399034\n",
      "Epoch: 60  Batch: 40  Loss: 0.0032167609315365553\n",
      "Epoch: 60  Batch: 50  Loss: 0.003452269360423088\n",
      "Epoch: 60  Batch: 60  Loss: 0.001064289826899767\n",
      "Epoch: 60  Batch: 70  Loss: 0.0013283999869599938\n",
      "Epoch: 60  Batch: 80  Loss: 0.0007361996686086059\n",
      "Epoch: 60  Batch: 90  Loss: 0.0009016259573400021\n",
      "Epoch: 61  Batch: 10  Loss: 0.0012212283909320831\n",
      "Epoch: 61  Batch: 20  Loss: 0.00026768099633045495\n",
      "Epoch: 61  Batch: 30  Loss: 0.0020349379628896713\n",
      "Epoch: 61  Batch: 40  Loss: 0.0029841915238648653\n",
      "Epoch: 61  Batch: 50  Loss: 0.0019664280116558075\n",
      "Epoch: 61  Batch: 60  Loss: 0.0017037891084328294\n",
      "Epoch: 61  Batch: 70  Loss: 0.0006279483204707503\n",
      "Epoch: 61  Batch: 80  Loss: 0.0036036684177815914\n",
      "Epoch: 61  Batch: 90  Loss: 0.00027337545179761946\n",
      "Epoch: 62  Batch: 10  Loss: 0.0010291679063811898\n",
      "Epoch: 62  Batch: 20  Loss: 0.0010885919909924269\n",
      "Epoch: 62  Batch: 30  Loss: 0.0005549371126107872\n",
      "Epoch: 62  Batch: 40  Loss: 0.001670805737376213\n",
      "Epoch: 62  Batch: 50  Loss: 0.001246382831595838\n",
      "Epoch: 62  Batch: 60  Loss: 0.001354425330646336\n",
      "Epoch: 62  Batch: 70  Loss: 0.00045210582902655005\n",
      "Epoch: 62  Batch: 80  Loss: 0.0014026861172169447\n",
      "Epoch: 62  Batch: 90  Loss: 0.0016146708512678742\n",
      "Epoch: 63  Batch: 10  Loss: 0.0007161786779761314\n",
      "Epoch: 63  Batch: 20  Loss: 0.0006873554666526616\n",
      "Epoch: 63  Batch: 30  Loss: 0.0007170053431764245\n",
      "Epoch: 63  Batch: 40  Loss: 0.0013922296930104494\n",
      "Epoch: 63  Batch: 50  Loss: 0.0022527016699314117\n",
      "Epoch: 63  Batch: 60  Loss: 0.0013396446593105793\n",
      "Epoch: 63  Batch: 70  Loss: 0.001565410173498094\n",
      "Epoch: 63  Batch: 80  Loss: 0.0024411403574049473\n",
      "Epoch: 63  Batch: 90  Loss: 0.001272004097700119\n",
      "Epoch: 64  Batch: 10  Loss: 0.001041637035086751\n",
      "Epoch: 64  Batch: 20  Loss: 0.0012170161353424191\n",
      "Epoch: 64  Batch: 30  Loss: 0.0006859229761175811\n",
      "Epoch: 64  Batch: 40  Loss: 0.0010522491065785289\n",
      "Epoch: 64  Batch: 50  Loss: 0.0011263792403042316\n",
      "Epoch: 64  Batch: 60  Loss: 0.0003795835073105991\n",
      "Epoch: 64  Batch: 70  Loss: 0.0006748771411366761\n",
      "Epoch: 64  Batch: 80  Loss: 0.005145175848156214\n",
      "Epoch: 64  Batch: 90  Loss: 0.002366226864978671\n",
      "Epoch: 65  Batch: 10  Loss: 0.00116541248280555\n",
      "Epoch: 65  Batch: 20  Loss: 0.00210238597355783\n",
      "Epoch: 65  Batch: 30  Loss: 0.0007303821621462703\n",
      "Epoch: 65  Batch: 40  Loss: 0.0015791585901752114\n",
      "Epoch: 65  Batch: 50  Loss: 0.0014030697057023644\n",
      "Epoch: 65  Batch: 60  Loss: 0.0006697966018691659\n",
      "Epoch: 65  Batch: 70  Loss: 0.0005207149079069495\n",
      "Epoch: 65  Batch: 80  Loss: 0.0011907800799235702\n",
      "Epoch: 65  Batch: 90  Loss: 0.0018202790524810553\n",
      "Epoch: 66  Batch: 10  Loss: 0.0012913570972159505\n",
      "Epoch: 66  Batch: 20  Loss: 0.0006186469690874219\n",
      "Epoch: 66  Batch: 30  Loss: 0.0011455727508291602\n",
      "Epoch: 66  Batch: 40  Loss: 0.0012798954267054796\n",
      "Epoch: 66  Batch: 50  Loss: 0.0006215564208105206\n",
      "Epoch: 66  Batch: 60  Loss: 0.0021165732759982347\n",
      "Epoch: 66  Batch: 70  Loss: 0.0027462823782116175\n",
      "Epoch: 66  Batch: 80  Loss: 0.00140960025601089\n",
      "Epoch: 66  Batch: 90  Loss: 0.003499116050079465\n",
      "Epoch: 67  Batch: 10  Loss: 0.0022734184749424458\n",
      "Epoch: 67  Batch: 20  Loss: 0.0008853987092152238\n",
      "Epoch: 67  Batch: 30  Loss: 0.0006654367316514254\n",
      "Epoch: 67  Batch: 40  Loss: 0.0012243544915691018\n",
      "Epoch: 67  Batch: 50  Loss: 0.0016203525010496378\n",
      "Epoch: 67  Batch: 60  Loss: 0.0039107599295675755\n",
      "Epoch: 67  Batch: 70  Loss: 0.0018646037206053734\n",
      "Epoch: 67  Batch: 80  Loss: 0.0018025648314505816\n",
      "Epoch: 67  Batch: 90  Loss: 0.0012162711936980486\n",
      "Epoch: 68  Batch: 10  Loss: 0.0013408750528469682\n",
      "Epoch: 68  Batch: 20  Loss: 0.001332498388364911\n",
      "Epoch: 68  Batch: 30  Loss: 0.0008899272652342916\n",
      "Epoch: 68  Batch: 40  Loss: 0.0017240525921806693\n",
      "Epoch: 68  Batch: 50  Loss: 0.0015156727749854326\n",
      "Epoch: 68  Batch: 60  Loss: 0.002285171067342162\n",
      "Epoch: 68  Batch: 70  Loss: 0.002897938946262002\n",
      "Epoch: 68  Batch: 80  Loss: 0.001892321975901723\n",
      "Epoch: 68  Batch: 90  Loss: 0.00474696746096015\n",
      "Epoch: 69  Batch: 10  Loss: 0.0018002910073846579\n",
      "Epoch: 69  Batch: 20  Loss: 0.0012268939753994346\n",
      "Epoch: 69  Batch: 30  Loss: 0.0004902185755781829\n",
      "Epoch: 69  Batch: 40  Loss: 0.0010625935392454267\n",
      "Epoch: 69  Batch: 50  Loss: 0.0005885871360078454\n",
      "Epoch: 69  Batch: 60  Loss: 0.0009645287063904107\n",
      "Epoch: 69  Batch: 70  Loss: 0.0010786856291815639\n",
      "Epoch: 69  Batch: 80  Loss: 0.0021624418441206217\n",
      "Epoch: 69  Batch: 90  Loss: 0.0025504669174551964\n",
      "Epoch: 70  Batch: 10  Loss: 0.0008911623735912144\n",
      "Epoch: 70  Batch: 20  Loss: 0.0017885438865050673\n",
      "Epoch: 70  Batch: 30  Loss: 0.0018191855633631349\n",
      "Epoch: 70  Batch: 40  Loss: 0.0009029594366438687\n",
      "Epoch: 70  Batch: 50  Loss: 0.0007573784678243101\n",
      "Epoch: 70  Batch: 60  Loss: 0.0003214572207070887\n",
      "Epoch: 70  Batch: 70  Loss: 0.0013964201789349318\n",
      "Epoch: 70  Batch: 80  Loss: 0.0016302434960380197\n",
      "Epoch: 70  Batch: 90  Loss: 0.0012328022858127952\n",
      "Epoch: 71  Batch: 10  Loss: 0.0027653586585074663\n",
      "Epoch: 71  Batch: 20  Loss: 0.0009239692008122802\n",
      "Epoch: 71  Batch: 30  Loss: 0.0006401881691999733\n",
      "Epoch: 71  Batch: 40  Loss: 0.0004612451884895563\n",
      "Epoch: 71  Batch: 50  Loss: 0.0020999761763960123\n",
      "Epoch: 71  Batch: 60  Loss: 0.00028293434297665954\n",
      "Epoch: 71  Batch: 70  Loss: 0.0002461193944327533\n",
      "Epoch: 71  Batch: 80  Loss: 0.001667751232162118\n",
      "Epoch: 71  Batch: 90  Loss: 0.002825148170813918\n",
      "Epoch: 72  Batch: 10  Loss: 0.0011084561701864004\n",
      "Epoch: 72  Batch: 20  Loss: 0.0006453050882555544\n",
      "Epoch: 72  Batch: 30  Loss: 0.0024565013591200113\n",
      "Epoch: 72  Batch: 40  Loss: 0.0010936408070847392\n",
      "Epoch: 72  Batch: 50  Loss: 0.0034966052044183016\n",
      "Epoch: 72  Batch: 60  Loss: 0.001582006923854351\n",
      "Epoch: 72  Batch: 70  Loss: 0.0006715536583214998\n",
      "Epoch: 72  Batch: 80  Loss: 0.00195881980471313\n",
      "Epoch: 72  Batch: 90  Loss: 0.0016640921821817756\n",
      "Epoch: 73  Batch: 10  Loss: 0.0020779224578291178\n",
      "Epoch: 73  Batch: 20  Loss: 0.0021946425549685955\n",
      "Epoch: 73  Batch: 30  Loss: 0.0018203093204647303\n",
      "Epoch: 73  Batch: 40  Loss: 0.0012573495041579008\n",
      "Epoch: 73  Batch: 50  Loss: 0.000975565635599196\n",
      "Epoch: 73  Batch: 60  Loss: 0.0008663174812681973\n",
      "Epoch: 73  Batch: 70  Loss: 0.0014750638511031866\n",
      "Epoch: 73  Batch: 80  Loss: 0.0007451180135831237\n",
      "Epoch: 73  Batch: 90  Loss: 0.0009888289496302605\n",
      "Epoch: 74  Batch: 10  Loss: 0.0013468852266669273\n",
      "Epoch: 74  Batch: 20  Loss: 0.00012457543925847858\n",
      "Epoch: 74  Batch: 30  Loss: 0.004091920796781778\n",
      "Epoch: 74  Batch: 40  Loss: 0.0008100336417555809\n",
      "Epoch: 74  Batch: 50  Loss: 0.0017170039936900139\n",
      "Epoch: 74  Batch: 60  Loss: 0.0014709512470290065\n",
      "Epoch: 74  Batch: 70  Loss: 0.000543272471986711\n",
      "Epoch: 74  Batch: 80  Loss: 0.0005635694833472371\n",
      "Epoch: 74  Batch: 90  Loss: 0.0008338272455148399\n",
      "Epoch: 75  Batch: 10  Loss: 0.002604640554636717\n",
      "Epoch: 75  Batch: 20  Loss: 0.0014553314540535212\n",
      "Epoch: 75  Batch: 30  Loss: 0.0004959484795108438\n",
      "Epoch: 75  Batch: 40  Loss: 0.0005835324991494417\n",
      "Epoch: 75  Batch: 50  Loss: 0.0009400557610206306\n",
      "Epoch: 75  Batch: 60  Loss: 0.0016206323634833097\n",
      "Epoch: 75  Batch: 70  Loss: 0.0014129059854894876\n",
      "Epoch: 75  Batch: 80  Loss: 0.0028661105316132307\n",
      "Epoch: 75  Batch: 90  Loss: 0.00076977105345577\n",
      "Epoch: 76  Batch: 10  Loss: 0.0026347010862082243\n",
      "Epoch: 76  Batch: 20  Loss: 0.000750982144381851\n",
      "Epoch: 76  Batch: 30  Loss: 0.0012064010370522738\n",
      "Epoch: 76  Batch: 40  Loss: 0.002346421591937542\n",
      "Epoch: 76  Batch: 50  Loss: 0.0012663265224546194\n",
      "Epoch: 76  Batch: 60  Loss: 0.0036134880501776934\n",
      "Epoch: 76  Batch: 70  Loss: 0.0008666370995342731\n",
      "Epoch: 76  Batch: 80  Loss: 0.0020858796779066324\n",
      "Epoch: 76  Batch: 90  Loss: 0.0006936343852430582\n",
      "Epoch: 77  Batch: 10  Loss: 0.0034961611963808537\n",
      "Epoch: 77  Batch: 20  Loss: 0.0028681191615760326\n",
      "Epoch: 77  Batch: 30  Loss: 0.0012633693404495716\n",
      "Epoch: 77  Batch: 40  Loss: 0.0013910169946029782\n",
      "Epoch: 77  Batch: 50  Loss: 0.001612862921319902\n",
      "Epoch: 77  Batch: 60  Loss: 0.0013290434144437313\n",
      "Epoch: 77  Batch: 70  Loss: 0.0014960872940719128\n",
      "Epoch: 77  Batch: 80  Loss: 0.0010445194784551859\n",
      "Epoch: 77  Batch: 90  Loss: 0.0005249601090326905\n",
      "Epoch: 78  Batch: 10  Loss: 0.0007856625015847385\n",
      "Epoch: 78  Batch: 20  Loss: 0.0032119874376803637\n",
      "Epoch: 78  Batch: 30  Loss: 0.0005315797170624137\n",
      "Epoch: 78  Batch: 40  Loss: 0.0007689439808018506\n",
      "Epoch: 78  Batch: 50  Loss: 0.0005705507355742157\n",
      "Epoch: 78  Batch: 60  Loss: 0.00023369731206912547\n",
      "Epoch: 78  Batch: 70  Loss: 0.0004051332361996174\n",
      "Epoch: 78  Batch: 80  Loss: 0.00030348182190209627\n",
      "Epoch: 78  Batch: 90  Loss: 0.0011031648609787226\n",
      "Epoch: 79  Batch: 10  Loss: 0.001112734666094184\n",
      "Epoch: 79  Batch: 20  Loss: 0.0005156184197403491\n",
      "Epoch: 79  Batch: 30  Loss: 0.0007108095451258123\n",
      "Epoch: 79  Batch: 40  Loss: 0.0006427417392842472\n",
      "Epoch: 79  Batch: 50  Loss: 0.00044404546497389674\n",
      "Epoch: 79  Batch: 60  Loss: 0.0020742998458445072\n",
      "Epoch: 79  Batch: 70  Loss: 0.0014725420624017715\n",
      "Epoch: 79  Batch: 80  Loss: 0.0017123384168371558\n",
      "Epoch: 79  Batch: 90  Loss: 0.0024778409861028194\n",
      "Epoch: 80  Batch: 10  Loss: 0.0007537537021562457\n",
      "Epoch: 80  Batch: 20  Loss: 0.0006301058456301689\n",
      "Epoch: 80  Batch: 30  Loss: 0.00024377733643632382\n",
      "Epoch: 80  Batch: 40  Loss: 0.0013763051247224212\n",
      "Epoch: 80  Batch: 50  Loss: 0.0006043678149580956\n",
      "Epoch: 80  Batch: 60  Loss: 0.0011078467359766364\n",
      "Epoch: 80  Batch: 70  Loss: 0.00092690548626706\n",
      "Epoch: 80  Batch: 80  Loss: 0.001713113160803914\n",
      "Epoch: 80  Batch: 90  Loss: 0.003579218639060855\n",
      "Epoch: 81  Batch: 10  Loss: 0.0004924364620819688\n",
      "Epoch: 81  Batch: 20  Loss: 0.0010936297476291656\n",
      "Epoch: 81  Batch: 30  Loss: 0.002491425722837448\n",
      "Epoch: 81  Batch: 40  Loss: 0.001537450822070241\n",
      "Epoch: 81  Batch: 50  Loss: 0.0010301030706614256\n",
      "Epoch: 81  Batch: 60  Loss: 0.0011290127877146006\n",
      "Epoch: 81  Batch: 70  Loss: 0.0008519709226675332\n",
      "Epoch: 81  Batch: 80  Loss: 0.0021665822714567184\n",
      "Epoch: 81  Batch: 90  Loss: 0.000730048050172627\n",
      "Epoch: 82  Batch: 10  Loss: 0.0014974672812968493\n",
      "Epoch: 82  Batch: 20  Loss: 0.00043430685764178634\n",
      "Epoch: 82  Batch: 30  Loss: 0.00234237196855247\n",
      "Epoch: 82  Batch: 40  Loss: 0.004188954830169678\n",
      "Epoch: 82  Batch: 50  Loss: 0.0022173672914505005\n",
      "Epoch: 82  Batch: 60  Loss: 0.0008842034148983657\n",
      "Epoch: 82  Batch: 70  Loss: 0.0007369816303253174\n",
      "Epoch: 82  Batch: 80  Loss: 0.00043237139470875263\n",
      "Epoch: 82  Batch: 90  Loss: 0.0012401849962770939\n",
      "Epoch: 83  Batch: 10  Loss: 0.0003840904391836375\n",
      "Epoch: 83  Batch: 20  Loss: 0.00029700249433517456\n",
      "Epoch: 83  Batch: 30  Loss: 0.00042625959031283855\n",
      "Epoch: 83  Batch: 40  Loss: 0.0002637509605847299\n",
      "Epoch: 83  Batch: 50  Loss: 0.0015173547435551882\n",
      "Epoch: 83  Batch: 60  Loss: 0.0005916432710364461\n",
      "Epoch: 83  Batch: 70  Loss: 0.0022194236516952515\n",
      "Epoch: 83  Batch: 80  Loss: 0.0003874686372000724\n",
      "Epoch: 83  Batch: 90  Loss: 0.001106170006096363\n",
      "Epoch: 84  Batch: 10  Loss: 0.0010838141897693276\n",
      "Epoch: 84  Batch: 20  Loss: 0.0007478776969946921\n",
      "Epoch: 84  Batch: 30  Loss: 0.0006525292992591858\n",
      "Epoch: 84  Batch: 40  Loss: 0.0017923021223396063\n",
      "Epoch: 84  Batch: 50  Loss: 0.0007126540876924992\n",
      "Epoch: 84  Batch: 60  Loss: 0.004872054792940617\n",
      "Epoch: 84  Batch: 70  Loss: 0.003374298568814993\n",
      "Epoch: 84  Batch: 80  Loss: 0.0007988857105374336\n",
      "Epoch: 84  Batch: 90  Loss: 0.0020108732860535383\n",
      "Epoch: 85  Batch: 10  Loss: 0.0015249426942318678\n",
      "Epoch: 85  Batch: 20  Loss: 0.0012816262897104025\n",
      "Epoch: 85  Batch: 30  Loss: 0.0003757908125407994\n",
      "Epoch: 85  Batch: 40  Loss: 0.0007427592063322663\n",
      "Epoch: 85  Batch: 50  Loss: 0.0015527221839874983\n",
      "Epoch: 85  Batch: 60  Loss: 0.0006913919351063669\n",
      "Epoch: 85  Batch: 70  Loss: 0.0005387443816289306\n",
      "Epoch: 85  Batch: 80  Loss: 0.00017735215078573674\n",
      "Epoch: 85  Batch: 90  Loss: 0.0007238215184770525\n",
      "Epoch: 86  Batch: 10  Loss: 0.0002447313745506108\n",
      "Epoch: 86  Batch: 20  Loss: 0.0006233736639842391\n",
      "Epoch: 86  Batch: 30  Loss: 0.00040013217949308455\n",
      "Epoch: 86  Batch: 40  Loss: 0.0004071177390869707\n",
      "Epoch: 86  Batch: 50  Loss: 0.001044230768457055\n",
      "Epoch: 86  Batch: 60  Loss: 0.00036296711186878383\n",
      "Epoch: 86  Batch: 70  Loss: 0.0006286163115873933\n",
      "Epoch: 86  Batch: 80  Loss: 0.0017108063912019134\n",
      "Epoch: 86  Batch: 90  Loss: 0.0002714012807700783\n",
      "Epoch: 87  Batch: 10  Loss: 0.000364842067938298\n",
      "Epoch: 87  Batch: 20  Loss: 0.0008118819678202271\n",
      "Epoch: 87  Batch: 30  Loss: 0.0004620026738848537\n",
      "Epoch: 87  Batch: 40  Loss: 0.00106909463647753\n",
      "Epoch: 87  Batch: 50  Loss: 0.0022237729281187057\n",
      "Epoch: 87  Batch: 60  Loss: 0.0010886435629799962\n",
      "Epoch: 87  Batch: 70  Loss: 0.00047007668763399124\n",
      "Epoch: 87  Batch: 80  Loss: 0.0004214576038066298\n",
      "Epoch: 87  Batch: 90  Loss: 0.00026421714574098587\n",
      "Epoch: 88  Batch: 10  Loss: 0.0008652714896015823\n",
      "Epoch: 88  Batch: 20  Loss: 0.0013621392427012324\n",
      "Epoch: 88  Batch: 30  Loss: 0.0003691422170959413\n",
      "Epoch: 88  Batch: 40  Loss: 0.0010092974407598376\n",
      "Epoch: 88  Batch: 50  Loss: 0.0008623526664450765\n",
      "Epoch: 88  Batch: 60  Loss: 0.0014607508201152086\n",
      "Epoch: 88  Batch: 70  Loss: 0.0013149615842849016\n",
      "Epoch: 88  Batch: 80  Loss: 0.002208555582910776\n",
      "Epoch: 88  Batch: 90  Loss: 0.0012735179625451565\n",
      "Epoch: 89  Batch: 10  Loss: 0.0004256799875292927\n",
      "Epoch: 89  Batch: 20  Loss: 0.0017620983999222517\n",
      "Epoch: 89  Batch: 30  Loss: 0.001043881755322218\n",
      "Epoch: 89  Batch: 40  Loss: 0.0013912238646298647\n",
      "Epoch: 89  Batch: 50  Loss: 0.0011055561481043696\n",
      "Epoch: 89  Batch: 60  Loss: 0.0006738085648976266\n",
      "Epoch: 89  Batch: 70  Loss: 0.0009129606187343597\n",
      "Epoch: 89  Batch: 80  Loss: 0.00035605201264843345\n",
      "Epoch: 89  Batch: 90  Loss: 0.0005719912005588412\n",
      "Epoch: 90  Batch: 10  Loss: 0.00079660105984658\n",
      "Epoch: 90  Batch: 20  Loss: 0.0002112224028678611\n",
      "Epoch: 90  Batch: 30  Loss: 0.0012821964919567108\n",
      "Epoch: 90  Batch: 40  Loss: 0.0008015326457098126\n",
      "Epoch: 90  Batch: 50  Loss: 0.0024300578515976667\n",
      "Epoch: 90  Batch: 60  Loss: 0.0007384862983599305\n",
      "Epoch: 90  Batch: 70  Loss: 0.0032917498610913754\n",
      "Epoch: 90  Batch: 80  Loss: 0.0007481466745957732\n",
      "Epoch: 90  Batch: 90  Loss: 0.0015651589492335916\n",
      "Epoch: 91  Batch: 10  Loss: 8.090843039099127e-05\n",
      "Epoch: 91  Batch: 20  Loss: 0.001622815616428852\n",
      "Epoch: 91  Batch: 30  Loss: 0.0005172746023163199\n",
      "Epoch: 91  Batch: 40  Loss: 0.0016982723027467728\n",
      "Epoch: 91  Batch: 50  Loss: 0.0006584164802916348\n",
      "Epoch: 91  Batch: 60  Loss: 0.002376505872234702\n",
      "Epoch: 91  Batch: 70  Loss: 0.000955810013692826\n",
      "Epoch: 91  Batch: 80  Loss: 0.0004925841349177063\n",
      "Epoch: 91  Batch: 90  Loss: 0.0006175831076689065\n",
      "Epoch: 92  Batch: 10  Loss: 0.00039517070399597287\n",
      "Epoch: 92  Batch: 20  Loss: 0.0009292629547417164\n",
      "Epoch: 92  Batch: 30  Loss: 0.0007228331523947418\n",
      "Epoch: 92  Batch: 40  Loss: 0.000676926109008491\n",
      "Epoch: 92  Batch: 50  Loss: 0.0007377885049208999\n",
      "Epoch: 92  Batch: 60  Loss: 0.00025924574583768845\n",
      "Epoch: 92  Batch: 70  Loss: 0.0016355467960238457\n",
      "Epoch: 92  Batch: 80  Loss: 0.0010880306363105774\n",
      "Epoch: 92  Batch: 90  Loss: 0.0004315548576414585\n",
      "Epoch: 93  Batch: 10  Loss: 0.00034339004196226597\n",
      "Epoch: 93  Batch: 20  Loss: 0.0002717156894505024\n",
      "Epoch: 93  Batch: 30  Loss: 0.0007653766078874469\n",
      "Epoch: 93  Batch: 40  Loss: 0.0004975897027179599\n",
      "Epoch: 93  Batch: 50  Loss: 0.00023465114645659924\n",
      "Epoch: 93  Batch: 60  Loss: 0.0007879884215071797\n",
      "Epoch: 93  Batch: 70  Loss: 0.0010067143011838198\n",
      "Epoch: 93  Batch: 80  Loss: 0.0016980981454253197\n",
      "Epoch: 93  Batch: 90  Loss: 0.0001361150061711669\n",
      "Epoch: 94  Batch: 10  Loss: 0.00033780813100747764\n",
      "Epoch: 94  Batch: 20  Loss: 0.0006936147110536695\n",
      "Epoch: 94  Batch: 30  Loss: 0.00061557482695207\n",
      "Epoch: 94  Batch: 40  Loss: 0.0004654942895285785\n",
      "Epoch: 94  Batch: 50  Loss: 0.0008246368961408734\n",
      "Epoch: 94  Batch: 60  Loss: 0.00036445382284000516\n",
      "Epoch: 94  Batch: 70  Loss: 0.0002300916239619255\n",
      "Epoch: 94  Batch: 80  Loss: 0.0009686128469184041\n",
      "Epoch: 94  Batch: 90  Loss: 0.0007806274225004017\n",
      "Epoch: 95  Batch: 10  Loss: 0.0005579321878030896\n",
      "Epoch: 95  Batch: 20  Loss: 0.0006406942848116159\n",
      "Epoch: 95  Batch: 30  Loss: 0.0014234345871955156\n",
      "Epoch: 95  Batch: 40  Loss: 0.000934422598220408\n",
      "Epoch: 95  Batch: 50  Loss: 0.0006186673417687416\n",
      "Epoch: 95  Batch: 60  Loss: 0.00043361884308978915\n",
      "Epoch: 95  Batch: 70  Loss: 9.36447104322724e-05\n",
      "Epoch: 95  Batch: 80  Loss: 0.0010653156787157059\n",
      "Epoch: 95  Batch: 90  Loss: 0.000284314010059461\n",
      "Epoch: 96  Batch: 10  Loss: 0.000792837527114898\n",
      "Epoch: 96  Batch: 20  Loss: 0.00010711817594710737\n",
      "Epoch: 96  Batch: 30  Loss: 0.0013401831965893507\n",
      "Epoch: 96  Batch: 40  Loss: 0.0015263218665495515\n",
      "Epoch: 96  Batch: 50  Loss: 0.000737908121664077\n",
      "Epoch: 96  Batch: 60  Loss: 0.0016916769091039896\n",
      "Epoch: 96  Batch: 70  Loss: 0.0008281595073640347\n",
      "Epoch: 96  Batch: 80  Loss: 0.0005486707086674869\n",
      "Epoch: 96  Batch: 90  Loss: 0.00017779003246687353\n",
      "Epoch: 97  Batch: 10  Loss: 0.0010218484094366431\n",
      "Epoch: 97  Batch: 20  Loss: 0.0005670809769071639\n",
      "Epoch: 97  Batch: 30  Loss: 0.00038624409353360534\n",
      "Epoch: 97  Batch: 40  Loss: 0.0019195957574993372\n",
      "Epoch: 97  Batch: 50  Loss: 0.00022905463993083686\n",
      "Epoch: 97  Batch: 60  Loss: 0.001475175260566175\n",
      "Epoch: 97  Batch: 70  Loss: 0.002797654364258051\n",
      "Epoch: 97  Batch: 80  Loss: 0.0009773217607289553\n",
      "Epoch: 97  Batch: 90  Loss: 0.00032632771763019264\n",
      "Epoch: 98  Batch: 10  Loss: 0.0001912061998154968\n",
      "Epoch: 98  Batch: 20  Loss: 0.000948649481870234\n",
      "Epoch: 98  Batch: 30  Loss: 0.0007113356259651482\n",
      "Epoch: 98  Batch: 40  Loss: 0.00044396374141797423\n",
      "Epoch: 98  Batch: 50  Loss: 0.0019671302288770676\n",
      "Epoch: 98  Batch: 60  Loss: 0.001689761527813971\n",
      "Epoch: 98  Batch: 70  Loss: 0.0004008875694125891\n",
      "Epoch: 98  Batch: 80  Loss: 0.0007853206479921937\n",
      "Epoch: 98  Batch: 90  Loss: 0.00038432894507423043\n",
      "Epoch: 99  Batch: 10  Loss: 0.0006782058626413345\n",
      "Epoch: 99  Batch: 20  Loss: 0.0006201323703862727\n",
      "Epoch: 99  Batch: 30  Loss: 0.00023015806800685823\n",
      "Epoch: 99  Batch: 40  Loss: 0.0007310666842386127\n",
      "Epoch: 99  Batch: 50  Loss: 0.0009672263404354453\n",
      "Epoch: 99  Batch: 60  Loss: 0.00016634620260447264\n",
      "Epoch: 99  Batch: 70  Loss: 0.001754606724716723\n",
      "Epoch: 99  Batch: 80  Loss: 0.0006182408542372286\n",
      "Epoch: 99  Batch: 90  Loss: 0.0004600305110216141\n",
      "Training Took: 5.313748343785604 minutes!\n"
     ]
    }
   ],
   "source": [
    "import time\n",
    "start_time = time.time()\n",
    "\n",
    "# Create Variables To Tracks Things\n",
    "epochs = 100\n",
    "train_losses = []\n",
    "test_losses = []\n",
    "train_correct = []\n",
    "test_correct = []\n",
    "\n",
    "# For Loop of Epochs\n",
    "for i in range(epochs):\n",
    "  trn_corr = 0\n",
    "  tst_corr = 0\n",
    "\n",
    "\n",
    "  # Train\n",
    "  for b,(X_train, y_train) in enumerate(train_loader):\n",
    "    b+=1 # start our batches at 1\n",
    "    y_pred = model(X_train) # get predicted values from the training set. Not flattened 2D\n",
    "    loss = criterion(y_pred, y_train) # how off are we? Compare the predictions to correct answers in y_train\n",
    "\n",
    "    predicted = torch.max(y_pred.data, 1)[1] # add up the number of correct predictions. Indexed off the first point\n",
    "    batch_corr = (predicted == y_train).sum() # how many we got correct from this batch. True = 1, False=0, sum those up\n",
    "    trn_corr += batch_corr # keep track as we go along in training.\n",
    "\n",
    "    # Update our parameters\n",
    "    optimizer.zero_grad()\n",
    "    loss.backward()\n",
    "    optimizer.step()\n",
    "\n",
    "\n",
    "    # Print out some results\n",
    "    if b%10 == 0:\n",
    "      print(f'Epoch: {i}  Batch: {b}  Loss: {loss.item()}')\n",
    "\n",
    "  train_losses.append(loss)\n",
    "  train_correct.append(trn_corr)\n",
    "\n",
    "\n",
    "  # Test\n",
    "  with torch.no_grad(): #No gradient so we don't update our weights and biases with test data\n",
    "    for b,(X_test, y_test) in enumerate(test_loader):\n",
    "      y_val = model(X_test)\n",
    "      predicted = torch.max(y_val.data, 1)[1] # Adding up correct predictions\n",
    "      tst_corr += (predicted == y_test).sum() # T=1 F=0 and sum away\n",
    "\n",
    "\n",
    "  loss = criterion(y_val, y_test)\n",
    "  test_losses.append(loss)\n",
    "  test_correct.append(tst_corr)\n",
    "\n",
    "\n",
    "\n",
    "current_time = time.time()\n",
    "total = current_time - start_time\n",
    "print(f'Training Took: {total/60} minutes!')"
   ]
  },
  {
   "cell_type": "code",
   "execution_count": 22,
   "metadata": {},
   "outputs": [
    {
     "data": {
      "text/plain": [
       "<matplotlib.legend.Legend at 0x267cf5ee680>"
      ]
     },
     "execution_count": 22,
     "metadata": {},
     "output_type": "execute_result"
    },
    {
     "data": {
      "image/png": "[encoded data removed]",
      "text/plain": [
       "<Figure size 640x480 with 1 Axes>"
      ]
     },
     "metadata": {},
     "output_type": "display_data"
    }
   ],
   "source": [
    "train_losses = [t1.item() for t1 in train_losses]\n",
    "\n",
    "#  Graph the loss at epoch\n",
    "plt.plot(train_losses, label='Train Loss')\n",
    "plt.plot(test_losses, label='Test Loss' )\n",
    "plt.title(\"Loss at epoch\")\n",
    "plt.legend()"
   ]
  },
  {
   "cell_type": "code",
   "execution_count": 23,
   "metadata": {},
   "outputs": [
    {
     "data": {
      "text/plain": [
       "<matplotlib.legend.Legend at 0x267d27ec970>"
      ]
     },
     "execution_count": 23,
     "metadata": {},
     "output_type": "execute_result"
    },
    {
     "data": {
      "image/png": "[encoded data removed]",
      "text/plain": [
       "<Figure size 640x480 with 1 Axes>"
      ]
     },
     "metadata": {},
     "output_type": "display_data"
    }
   ],
   "source": [
    "# Graph the accuracy at the end of epoch\n",
    "plt.plot([t for t in train_correct], label = 'Training Accuracy')\n",
    "plt.plot([t for t in test_correct], label = 'Validation Accuracy')\n",
    "plt.title('Accuracy at the end of each epoch')\n",
    "plt.legend()"
   ]
  },
  {
   "cell_type": "code",
   "execution_count": 24,
   "metadata": {},
   "outputs": [],
   "source": [
    "test_load_evt = DataLoader(test_data, batch_size = 10, shuffle=False)"
   ]
  },
  {
   "cell_type": "code",
   "execution_count": 25,
   "metadata": {},
   "outputs": [],
   "source": [
    "with torch.no_grad():\n",
    "    correct = 0\n",
    "    for X_test, y_test in test_load_evt:\n",
    "        y_val = model(X_test)\n",
    "        predicted = torch.max(y_val, 1)[1]\n",
    "        correct += (predicted == y_test).sum()"
   ]
  },
  {
   "cell_type": "code",
   "execution_count": 26,
   "metadata": {},
   "outputs": [
    {
     "data": {
      "text/plain": [
       "76.0"
      ]
     },
     "execution_count": 26,
     "metadata": {},
     "output_type": "execute_result"
    }
   ],
   "source": [
    "# Did for correct\n",
    "correct.item()/len(test_data)*100"
   ]
  },
  {
   "cell_type": "code",
   "execution_count": 27,
   "metadata": {},
   "outputs": [
    {
     "data": {
      "text/plain": [
       "torch.Size([1, 32, 32])"
      ]
     },
     "execution_count": 27,
     "metadata": {},
     "output_type": "execute_result"
    }
   ],
   "source": [
    "# Grab the data\n",
    "test_data[3][0].shape"
   ]
  },
  {
   "cell_type": "code",
   "execution_count": 28,
   "metadata": {},
   "outputs": [
    {
     "data": {
      "text/plain": [
       "<matplotlib.image.AxesImage at 0x267d6a7ca60>"
      ]
     },
     "execution_count": 28,
     "metadata": {},
     "output_type": "execute_result"
    },
    {
     "data": {
      "image/png": "[encoded data removed]",
      "text/plain": [
       "<Figure size 640x480 with 1 Axes>"
      ]
     },
     "metadata": {},
     "output_type": "display_data"
    }
   ],
   "source": [
    "# Show the image\n",
    "plt.imshow(test_data[11][0].permute(1, 2, 0))"
   ]
  },
  {
   "cell_type": "code",
   "execution_count": 29,
   "metadata": {},
   "outputs": [],
   "source": [
    "# Pass the image through our model\n",
    "model.eval()\n",
    "with torch.no_grad():\n",
    "    new_prediction = model(test_data[11][0].view(1,32,32)) # batch size of 1, 1 color channel, 28x28 image\n",
    "    "
   ]
  },
  {
   "cell_type": "code",
   "execution_count": 30,
   "metadata": {},
   "outputs": [
    {
     "data": {
      "text/plain": [
       "tensor([[-30.0169,  -0.0987, -25.9456, -12.0846,  -8.0851,  -2.3678, -16.1465,\n",
       "         -15.8885, -23.0147, -19.3433]])"
      ]
     },
     "execution_count": 30,
     "metadata": {},
     "output_type": "execute_result"
    }
   ],
   "source": [
    "# check the new predictions \n",
    "new_prediction"
   ]
  },
  {
   "cell_type": "code",
   "execution_count": 31,
   "metadata": {},
   "outputs": [
    {
     "data": {
      "text/plain": [
       "tensor(1)"
      ]
     },
     "execution_count": 31,
     "metadata": {},
     "output_type": "execute_result"
    }
   ],
   "source": [
    "new_prediction.argmax()"
   ]
  },
  {
   "cell_type": "code",
   "execution_count": 32,
   "metadata": {},
   "outputs": [],
   "source": [
    "from PIL import Image\n",
    "# img = img.convert('RGB')\n",
    "\n",
    "img = Image.open(r'.\\\\digit_dataset\\\\9_9.png')\n",
    "\n",
    "img.show()"
   ]
  },
  {
   "cell_type": "code",
   "execution_count": 33,
   "metadata": {},
   "outputs": [],
   "source": [
    "img_tensor = train_transforms(img)"
   ]
  },
  {
   "cell_type": "code",
   "execution_count": 34,
   "metadata": {},
   "outputs": [
    {
     "data": {
      "text/plain": [
       "tensor([[[509., 509., 509.,  ..., 509., 509., 509.],\n",
       "         [509., 509., 509.,  ..., 509., 509., 509.],\n",
       "         [509., 509., 509.,  ..., 509., 509., 509.],\n",
       "         ...,\n",
       "         [509., 509., 509.,  ..., 509., 509., 509.],\n",
       "         [509., 509., 509.,  ..., 509., 509., 509.],\n",
       "         [509., 509., 509.,  ..., 509., 509., 509.]]])"
      ]
     },
     "execution_count": 34,
     "metadata": {},
     "output_type": "execute_result"
    }
   ],
   "source": [
    "img_tensor"
   ]
  },
  {
   "cell_type": "code",
   "execution_count": 35,
   "metadata": {},
   "outputs": [
    {
     "data": {
      "text/plain": [
       "<matplotlib.image.AxesImage at 0x267d27db010>"
      ]
     },
     "execution_count": 35,
     "metadata": {},
     "output_type": "execute_result"
    },
    {
     "data": {
      "image/png": "[encoded data removed]",
      "text/plain": [
       "<Figure size 640x480 with 1 Axes>"
      ]
     },
     "metadata": {},
     "output_type": "display_data"
    }
   ],
   "source": [
    "# plt.imshow(img_tensor.permute(1, 2, 0))\n",
    "# test_img_tensor = test_img_tensor.view(1,1,32,32)\n",
    "\n",
    "img = img_tensor.unsqueeze(0)\n",
    "plt.imshow(img.squeeze())"
   ]
  },
  {
   "cell_type": "code",
   "execution_count": 36,
   "metadata": {},
   "outputs": [
    {
     "data": {
      "text/plain": [
       "tensor([[-3.6309e+01, -1.3361e+01, -2.3110e+01, -1.1812e+01, -1.8903e+01,\n",
       "         -2.1885e+01, -1.7480e+01, -3.0925e+01, -2.6565e+01, -8.9407e-06]])"
      ]
     },
     "execution_count": 36,
     "metadata": {},
     "output_type": "execute_result"
    }
   ],
   "source": [
    "model.eval()\n",
    "with torch.no_grad():\n",
    "    prediction = model(img_tensor) \n",
    "\n",
    "prediction"
   ]
  },
  {
   "cell_type": "code",
   "execution_count": 37,
   "metadata": {},
   "outputs": [
    {
     "data": {
      "text/plain": [
       "tensor(9)"
      ]
     },
     "execution_count": 37,
     "metadata": {},
     "output_type": "execute_result"
    }
   ],
   "source": [
    "prediction.argmax()"
   ]
  },
  {
   "cell_type": "code",
   "execution_count": 38,
   "metadata": {},
   "outputs": [
    {
     "data": {
      "text/plain": [
       "'९'"
      ]
     },
     "execution_count": 38,
     "metadata": {},
     "output_type": "execute_result"
    }
   ],
   "source": [
    "labels_map[int(prediction.argmax())]"
   ]
  },
  {
   "cell_type": "markdown",
   "metadata": {},
   "source": [
    "# Saving The Model"
   ]
  },
  {
   "cell_type": "code",
   "execution_count": 39,
   "metadata": {},
   "outputs": [],
   "source": [
    "pickle.dump(model, open('final_model.sav', 'wb'))"
   ]
  }
 ],
 "metadata": {
  "kernelspec": {
   "display_name": "venv",
   "language": "python",
   "name": "python3"
  },
  "language_info": {
   "codemirror_mode": {
    "name": "ipython",
    "version": 3
   },
   "file_extension": ".py",
   "mimetype": "text/x-python",
   "name": "python",
   "nbconvert_exporter": "python",
   "pygments_lexer": "ipython3",
   "version": "3.10.2"
  }
 },
 "nbformat": 4,
 "nbformat_minor": 2
}
